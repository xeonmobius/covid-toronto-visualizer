{
 "metadata": {
  "language_info": {
   "codemirror_mode": {
    "name": "ipython",
    "version": 3
   },
   "file_extension": ".py",
   "mimetype": "text/x-python",
   "name": "python",
   "nbconvert_exporter": "python",
   "pygments_lexer": "ipython3",
   "version": 3
  },
  "orig_nbformat": 2,
  "kernelspec": {
   "name": "python_defaultSpec_1595385162013",
   "display_name": "Python 3.8.4 64-bit"
  }
 },
 "nbformat": 4,
 "nbformat_minor": 2,
 "cells": [
  {
   "cell_type": "code",
   "execution_count": 1,
   "metadata": {},
   "outputs": [],
   "source": [
    "import pandas as pd"
   ]
  },
  {
   "cell_type": "code",
   "execution_count": 2,
   "metadata": {},
   "outputs": [],
   "source": [
    "covid_df = pd.read_csv('COVID19 cases.csv')\n",
    "postal_df = pd.read_csv('Postal Codes_2020071803700.csv')"
   ]
  },
  {
   "cell_type": "code",
   "execution_count": 3,
   "metadata": {},
   "outputs": [],
   "source": [
    "postal_covid = covid_df.groupby(\"FSA\").count()[\"_id\"]"
   ]
  },
  {
   "cell_type": "code",
   "execution_count": 4,
   "metadata": {},
   "outputs": [],
   "source": [
    "postal_covid = postal_covid.reset_index()\n",
    "postal_covid['lat'] = 0\n",
    "postal_covid['lon'] = 0"
   ]
  },
  {
   "cell_type": "code",
   "execution_count": 194,
   "metadata": {
    "tags": []
   },
   "outputs": [],
   "source": [
    "def extract_row(row):\n",
    "    info = row[\"name\"].split(\",\")\n",
    "    row[\"place\"] = info[-1]\n",
    "    row[\"country\"] = info[-2]\n",
    "    row[\"geom_long\"] = info[-3]\n",
    "    row[\"geom_lat\"] = info[-4]\n",
    "    row[\"name\"] = info[-5]\n",
    "\n",
    "    return row\n",
    "\n",
    "postal_df = postal_df.apply(extract_row, axis=1)"
   ]
  },
  {
   "cell_type": "code",
   "execution_count": 195,
   "metadata": {
    "tags": []
   },
   "outputs": [],
   "source": [
    "for index, row in postal_covid.iterrows():\n",
    "    postal_row = postal_df[postal_df['name'] == row[\"FSA\"]]\n",
    "    postal_covid['lat'][index] = (postal_row['geom_lat'].values[0])\n",
    "    postal_covid['lon'][index] = (postal_row['geom_long'].values[0])"
   ]
  },
  {
   "cell_type": "code",
   "execution_count": 196,
   "metadata": {},
   "outputs": [],
   "source": [
    "postal_covid['lat'] = postal_covid['lat'].astype(float)\n",
    "postal_covid['lon'] = postal_covid['lon'].astype(float)"
   ]
  },
  {
   "cell_type": "code",
   "execution_count": 199,
   "metadata": {},
   "outputs": [
    {
     "output_type": "execute_result",
     "data": {
      "text/plain": "0     296\n1     232\n2     441\n3     212\n4      89\n     ... \n91    346\n92    245\n93    365\n94    850\n95    417\nName: _id, Length: 96, dtype: int64"
     },
     "metadata": {},
     "execution_count": 199
    }
   ],
   "source": [
    "postal_covid['_id']"
   ]
  },
  {
   "cell_type": "code",
   "execution_count": null,
   "metadata": {},
   "outputs": [],
   "source": []
  }
 ]
}